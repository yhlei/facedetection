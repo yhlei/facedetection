{
 "cells": [
  {
   "cell_type": "code",
   "execution_count": null,
   "metadata": {},
   "outputs": [],
   "source": [
    "import cv2\n",
    "from matplotlib import pyplot as plt\n",
    "# 使用OpenCv打开摄像头\n",
    "cap = cv2.VideoCapture()\n",
    "cap.open(0)\n",
    "while True:\n",
    "    # 摄像头开始采集，若采集到数据，返回值rect为1，否则为0，frame为返回的对象\n",
    "    ret, frame = cap.read()\n",
    "    np_frame = frame\n",
    "    # 进行人脸的数据的导入\n",
    "    face_cascade = cv2.CascadeClassifier(\n",
    "                            './haarcascade_frontalface_default.xml')\n",
    "    #进行眼睛数据的导入\n",
    "    eye_cascade = cv2.CascadeClassifier(\n",
    "                            './haarcascade_eye.xml')\n",
    "    \n",
    "    # 进行图像的灰度处理\n",
    "    gray = cv2.cvtColor(np_frame, cv2.COLOR_BGR2GRAY)\n",
    "    faces = face_cascade.detectMultiScale(gray, 1.3, 5)\n",
    "    \n",
    "    # 进行人脸检测和眼睛的检测\n",
    "    for (x,y,w,h) in faces:\n",
    "        cv2.rectangle(np_frame,(x,y),(x+w,y+h),(255,0,0),2)\n",
    "        roi_gray = gray[y:y+h, x:x+w]\n",
    "        roi_color = np_frame[y:y+h, x:x+w]\n",
    "\n",
    "        eyes = eye_cascade.detectMultiScale(roi_gray)\n",
    "        for (ex,ey,ew,eh) in eyes:\n",
    "            cv2.rectangle(roi_color,(ex,ey),(ex+ew,ey+eh),(0,255,0),2)\n",
    "\n",
    "\n",
    "    # 将OpenCv处理的结构打印出来\n",
    "    %matplotlib inline \n",
    "    from matplotlib import pyplot as plt\n",
    "    import numpy as np\n",
    "    plt.imshow(np_frame[:,:,[2,1,0]])\n",
    "    plt.show()\n",
    "    \n",
    "# 销毁窗口释放内存\n",
    "cv2.destroyAllWindows()\n",
    "cap.release()"
   ]
  }
 ],
 "metadata": {
  "kernelspec": {
   "display_name": "Python 3",
   "language": "python",
   "name": "python3"
  },
  "language_info": {
   "codemirror_mode": {
    "name": "ipython",
    "version": 3
   },
   "file_extension": ".py",
   "mimetype": "text/x-python",
   "name": "python",
   "nbconvert_exporter": "python",
   "pygments_lexer": "ipython3",
   "version": "3.6.5"
  }
 },
 "nbformat": 4,
 "nbformat_minor": 2
}
